{
 "cells": [
  {
   "cell_type": "code",
   "execution_count": 1,
   "id": "19a07025-4bf5-4c62-86e9-9b3e1fd8d92b",
   "metadata": {},
   "outputs": [],
   "source": [
    "import queue"
   ]
  },
  {
   "cell_type": "code",
   "execution_count": 2,
   "id": "bf27792d-d4ec-43cd-8a2a-89f72ff4e7f4",
   "metadata": {},
   "outputs": [],
   "source": [
    "#Print board\n",
    "def print_board(board):\n",
    "    for row in board:\n",
    "        print(\" | \".join(row))\n",
    "        print(\"-\" * 9)"
   ]
  },
  {
   "cell_type": "code",
   "execution_count": 3,
   "id": "df383886-bad9-4c64-804f-82596c15dc3f",
   "metadata": {},
   "outputs": [],
   "source": [
    "#Winner Condition\n",
    "def is_winner(board, player):\n",
    "    for row in board:\n",
    "        if all(cell == player for cell in row):\n",
    "            return True\n",
    "    for col in range(3):\n",
    "        if all(board[row][col] == player for row in range(3)):\n",
    "            return True\n",
    "    if all(board[i][i] == player for i in range(3)) or all(board[i][2 - i] == player for i in range(3)):\n",
    "        return True\n",
    "    return False"
   ]
  },
  {
   "cell_type": "code",
   "execution_count": 4,
   "id": "b02359af-01eb-4cb3-939f-3e3f1568a844",
   "metadata": {},
   "outputs": [],
   "source": [
    "#Check End game Condition\n",
    "def is_draw(board):\n",
    "    for row in board:\n",
    "        if \" \" in row:\n",
    "            return False\n",
    "    return True"
   ]
  },
  {
   "cell_type": "code",
   "execution_count": 5,
   "id": "22def262-4ea1-461c-90b7-cbc98243ff06",
   "metadata": {},
   "outputs": [],
   "source": [
    "#Valid Move Condition\n",
    "def is_valid_move(board, row, col):\n",
    "    return 0 <= row < 3 and 0 <= col < 3 and board[row][col] == \" \""
   ]
  },
  {
   "cell_type": "code",
   "execution_count": 6,
   "id": "10d5d301-f76d-4848-ba6a-b31885e32016",
   "metadata": {},
   "outputs": [],
   "source": [
    "# AI Move Using DFS\n",
    "def dfs_ai_move(board, player):\n",
    "    stack = []  # Stack for DFS\n",
    "    stack.append(board)  # Push the initial board onto the stack\n",
    "\n",
    "    while stack:\n",
    "        current_board = stack.pop()  # Pop the top board from the stack\n",
    "\n",
    "        for row in range(3):\n",
    "            for col in range(3):\n",
    "                if current_board[row][col] == \" \":  # Check for an empty cell\n",
    "                    new_board = [row[:] for row in current_board]  # Create a copy of the board\n",
    "                    new_board[row][col] = player  # Place the player's move\n",
    "                    if is_winner(new_board, player):  # Check if this move wins the game\n",
    "                        return row, col  # Return the winning move\n",
    "                    stack.append(new_board)  # Push the new board onto the stack\n",
    "\n",
    "    return None  # If no winning move is found, return None"
   ]
  },
  {
   "cell_type": "code",
   "execution_count": 13,
   "id": "8febc95d-e286-49b6-bc31-1b01922244cc",
   "metadata": {},
   "outputs": [
    {
     "name": "stdout",
     "output_type": "stream",
     "text": [
      "  |   |  \n",
      "---------\n",
      "  |   |  \n",
      "---------\n",
      "  |   |  \n",
      "---------\n",
      "Enter row (0-2) for player X: 1\n",
      "Enter column (0-2) for player X: 1\n",
      "  |   |  \n",
      "---------\n",
      "  | X |  \n",
      "---------\n",
      "  |   |  \n",
      "---------\n",
      "Player O (AI) is making a move...\n",
      "  |   |  \n",
      "---------\n",
      "  | X |  \n",
      "---------\n",
      "O |   |  \n",
      "---------\n",
      "Enter row (0-2) for player X: 0\n",
      "Enter column (0-2) for player X: 2\n",
      "  |   | X\n",
      "---------\n",
      "  | X |  \n",
      "---------\n",
      "O |   |  \n",
      "---------\n",
      "Player O (AI) is making a move...\n",
      "  |   | X\n",
      "---------\n",
      "  | X |  \n",
      "---------\n",
      "O | O |  \n",
      "---------\n",
      "Enter row (0-2) for player X: 2\n",
      "Enter column (0-2) for player X: 2\n",
      "  |   | X\n",
      "---------\n",
      "  | X |  \n",
      "---------\n",
      "O | O | X\n",
      "---------\n",
      "Player O (AI) is making a move...\n",
      "O |   | X\n",
      "---------\n",
      "  | X |  \n",
      "---------\n",
      "O | O | X\n",
      "---------\n",
      "Enter row (0-2) for player X: 1\n",
      "Enter column (0-2) for player X: 2\n",
      "O |   | X\n",
      "---------\n",
      "  | X | X\n",
      "---------\n",
      "O | O | X\n",
      "---------\n",
      "you win\n"
     ]
    }
   ],
   "source": [
    "#Main Game\n",
    "\n",
    "#The play_tic_tac_toe function is the main game loop where the Tic Tac Toe game is played. \n",
    "#It sets up the game board, defines the players (\"X\" and \"O\"), and initializes the current player as \"X.\n",
    "\n",
    "def play_tic_tac_toe():\n",
    "    board = [[\" \" for _ in range(3)] for _ in range(3)]\n",
    "    players = [\"X\", \"O\"]\n",
    "    current_player = players[0]\n",
    "\n",
    "    while True:\n",
    "        print_board(board)\n",
    "\n",
    "        if current_player == \"X\":\n",
    "            row = int(input(f\"Enter row (0-2) for player X: \"))\n",
    "            col = int(input(f\"Enter column (0-2) for player X: \"))\n",
    "        else:\n",
    "            print(\"Player O (AI) is making a move...\")\n",
    "            ai_move = dfs_ai_move(board, current_player) #DFS Algorithm \n",
    "            if ai_move:\n",
    "                row, col = ai_move\n",
    "            else:\n",
    "                print(\"AI couldn't find a winning move, making a random move.\")\n",
    "                # Implement a more advanced AI algorithm here.\n",
    "                row, col = 0, 0  # For simplicity, making a random move.\n",
    "\n",
    "        if is_valid_move(board, row, col):\n",
    "            board[row][col] = current_player\n",
    "\n",
    "            if is_winner(board, current_player):\n",
    "                print_board(board)\n",
    "                if current_player =='X':\n",
    "                    print(\"you win\")\n",
    "                else:\n",
    "                    print(\"ai wins\")\n",
    "                break\n",
    "\n",
    "            if is_draw(board):\n",
    "                print_board(board)\n",
    "                print(\"It's a draw!\")\n",
    "                break\n",
    "\n",
    "            current_player = players[1] if current_player == players[0] else players[0]\n",
    "\n",
    "        else:\n",
    "            print(\"Invalid move. Please try again.\")\n",
    "# main Function\n",
    "if __name__ == \"__main__\":\n",
    "    play_tic_tac_toe()\n"
   ]
  },
  {
   "cell_type": "code",
   "execution_count": 15,
   "id": "ad70fa3c-3552-435f-8dc3-f2da2acbea35",
   "metadata": {},
   "outputs": [
    {
     "data": {
      "text/plain": [
       "1"
      ]
     },
     "execution_count": 15,
     "metadata": {},
     "output_type": "execute_result"
    }
   ],
   "source": [
    "1\n"
   ]
  },
  {
   "cell_type": "code",
   "execution_count": null,
   "id": "df10c6ee",
   "metadata": {},
   "outputs": [],
   "source": []
  }
 ],
 "metadata": {
  "kernelspec": {
   "display_name": "Python 3 (ipykernel)",
   "language": "python",
   "name": "python3"
  },
  "language_info": {
   "codemirror_mode": {
    "name": "ipython",
    "version": 3
   },
   "file_extension": ".py",
   "mimetype": "text/x-python",
   "name": "python",
   "nbconvert_exporter": "python",
   "pygments_lexer": "ipython3",
   "version": "3.11.5"
  }
 },
 "nbformat": 4,
 "nbformat_minor": 5
}
